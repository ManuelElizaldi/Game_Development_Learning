{
 "cells": [
  {
   "cell_type": "code",
   "execution_count": 1,
   "id": "d2f30a62",
   "metadata": {},
   "outputs": [
    {
     "name": "stdout",
     "output_type": "stream",
     "text": [
      "-5\n"
     ]
    }
   ],
   "source": [
    "x = 5\n",
    "\n",
    "print(-abs(x))"
   ]
  },
  {
   "cell_type": "code",
   "execution_count": null,
   "id": "0cfd910d",
   "metadata": {},
   "outputs": [],
   "source": [
    "circle_center_x, circle_center_y = [400, 300]"
   ]
  },
  {
   "cell_type": "code",
   "execution_count": 2,
   "id": "354c9a8c",
   "metadata": {},
   "outputs": [
    {
     "data": {
      "text/plain": [
       "400"
      ]
     },
     "execution_count": 2,
     "metadata": {},
     "output_type": "execute_result"
    }
   ],
   "source": [
    "circle_center_x"
   ]
  },
  {
   "cell_type": "code",
   "execution_count": null,
   "id": "9f1e21af",
   "metadata": {},
   "outputs": [],
   "source": []
  }
 ],
 "metadata": {
  "kernelspec": {
   "display_name": "Python 3",
   "language": "python",
   "name": "python3"
  },
  "language_info": {
   "codemirror_mode": {
    "name": "ipython",
    "version": 3
   },
   "file_extension": ".py",
   "mimetype": "text/x-python",
   "name": "python",
   "nbconvert_exporter": "python",
   "pygments_lexer": "ipython3",
   "version": "3.12.1"
  }
 },
 "nbformat": 4,
 "nbformat_minor": 5
}
